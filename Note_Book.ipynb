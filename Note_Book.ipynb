{
  "cells": [
    {
      "cell_type": "markdown",
      "id": "2b20cfb8-b21b-4e19-8b32-a871232e1dc2",
      "metadata": {
        "id": "2b20cfb8-b21b-4e19-8b32-a871232e1dc2"
      },
      "source": [
        "# Task :\n",
        "#### 1. Data Cleaning and Exploratory Data Analysis (EDA)\n",
        "#### 2. Customer Segmentation using RFM analysis"
      ]
    },
    {
      "cell_type": "code",
      "execution_count": null,
      "id": "7c03a769-b424-4224-88bc-e4157f83fa31",
      "metadata": {
        "id": "7c03a769-b424-4224-88bc-e4157f83fa31"
      },
      "outputs": [],
      "source": [
        "import os\n",
        "import numpy as np\n",
        "import pandas as pd\n",
        "import matplotlib.pyplot as plt\n",
        "import seaborn as sns\n",
        "%matplotlib inline\n",
        "sns.set()\n",
        "import warnings\n",
        "warnings.filterwarnings('ignore')"
      ]
    },
    {
      "cell_type": "code",
      "execution_count": null,
      "id": "039f3fd7-a18a-4caf-b923-9e65075a3ecc",
      "metadata": {
        "id": "039f3fd7-a18a-4caf-b923-9e65075a3ecc",
        "outputId": "a2e028a7-8c3e-4672-b629-5b68e2beb784"
      },
      "outputs": [
        {
          "data": {
            "text/html": [
              "<div>\n",
              "<style scoped>\n",
              "    .dataframe tbody tr th:only-of-type {\n",
              "        vertical-align: middle;\n",
              "    }\n",
              "\n",
              "    .dataframe tbody tr th {\n",
              "        vertical-align: top;\n",
              "    }\n",
              "\n",
              "    .dataframe thead th {\n",
              "        text-align: right;\n",
              "    }\n",
              "</style>\n",
              "<table border=\"1\" class=\"dataframe\">\n",
              "  <thead>\n",
              "    <tr style=\"text-align: right;\">\n",
              "      <th></th>\n",
              "      <th>CustomerID</th>\n",
              "      <th>Item Code</th>\n",
              "      <th>InvoieNo</th>\n",
              "      <th>Date of purchase</th>\n",
              "      <th>Quantity</th>\n",
              "      <th>Time</th>\n",
              "      <th>price per Unit</th>\n",
              "      <th>Price</th>\n",
              "      <th>Shipping Location</th>\n",
              "      <th>Cancelled_status</th>\n",
              "      <th>Reason of return</th>\n",
              "      <th>Sold as set</th>\n",
              "    </tr>\n",
              "  </thead>\n",
              "  <tbody>\n",
              "    <tr>\n",
              "      <th>0</th>\n",
              "      <td>4355.0</td>\n",
              "      <td>15734</td>\n",
              "      <td>398177.0</td>\n",
              "      <td>29-10-2017</td>\n",
              "      <td>6.0</td>\n",
              "      <td>3:36:00 PM</td>\n",
              "      <td>321.0</td>\n",
              "      <td>1926.0</td>\n",
              "      <td>Location 1</td>\n",
              "      <td>NaN</td>\n",
              "      <td>NaN</td>\n",
              "      <td>NaN</td>\n",
              "    </tr>\n",
              "    <tr>\n",
              "      <th>1</th>\n",
              "      <td>4352.0</td>\n",
              "      <td>14616</td>\n",
              "      <td>394422.0</td>\n",
              "      <td>05-10-2017</td>\n",
              "      <td>2.0</td>\n",
              "      <td>2:53:00 PM</td>\n",
              "      <td>870.0</td>\n",
              "      <td>1740.0</td>\n",
              "      <td>Location 1</td>\n",
              "      <td>NaN</td>\n",
              "      <td>NaN</td>\n",
              "      <td>NaN</td>\n",
              "    </tr>\n",
              "    <tr>\n",
              "      <th>2</th>\n",
              "      <td>4352.0</td>\n",
              "      <td>14614</td>\n",
              "      <td>394422.0</td>\n",
              "      <td>12-10-2017</td>\n",
              "      <td>2.0</td>\n",
              "      <td>2:53:00 PM</td>\n",
              "      <td>933.0</td>\n",
              "      <td>1866.0</td>\n",
              "      <td>Location 1</td>\n",
              "      <td>NaN</td>\n",
              "      <td>NaN</td>\n",
              "      <td>NaN</td>\n",
              "    </tr>\n",
              "    <tr>\n",
              "      <th>3</th>\n",
              "      <td>4352.0</td>\n",
              "      <td>85014B</td>\n",
              "      <td>388633.0</td>\n",
              "      <td>22-08-2017</td>\n",
              "      <td>3.0</td>\n",
              "      <td>2:47:00 PM</td>\n",
              "      <td>623.0</td>\n",
              "      <td>1869.0</td>\n",
              "      <td>Location 1</td>\n",
              "      <td>NaN</td>\n",
              "      <td>NaN</td>\n",
              "      <td>NaN</td>\n",
              "    </tr>\n",
              "    <tr>\n",
              "      <th>4</th>\n",
              "      <td>4352.0</td>\n",
              "      <td>15364</td>\n",
              "      <td>394422.0</td>\n",
              "      <td>10-10-2017</td>\n",
              "      <td>2.0</td>\n",
              "      <td>2:53:00 PM</td>\n",
              "      <td>944.0</td>\n",
              "      <td>1888.0</td>\n",
              "      <td>Location 1</td>\n",
              "      <td>NaN</td>\n",
              "      <td>NaN</td>\n",
              "      <td>NaN</td>\n",
              "    </tr>\n",
              "  </tbody>\n",
              "</table>\n",
              "</div>"
            ],
            "text/plain": [
              "   CustomerID Item Code  InvoieNo Date of purchase  Quantity        Time  \\\n",
              "0      4355.0     15734  398177.0       29-10-2017       6.0  3:36:00 PM   \n",
              "1      4352.0     14616  394422.0       05-10-2017       2.0  2:53:00 PM   \n",
              "2      4352.0     14614  394422.0       12-10-2017       2.0  2:53:00 PM   \n",
              "3      4352.0    85014B  388633.0       22-08-2017       3.0  2:47:00 PM   \n",
              "4      4352.0     15364  394422.0       10-10-2017       2.0  2:53:00 PM   \n",
              "\n",
              "   price per Unit   Price Shipping Location Cancelled_status Reason of return  \\\n",
              "0           321.0  1926.0        Location 1              NaN              NaN   \n",
              "1           870.0  1740.0        Location 1              NaN              NaN   \n",
              "2           933.0  1866.0        Location 1              NaN              NaN   \n",
              "3           623.0  1869.0        Location 1              NaN              NaN   \n",
              "4           944.0  1888.0        Location 1              NaN              NaN   \n",
              "\n",
              "   Sold as set  \n",
              "0          NaN  \n",
              "1          NaN  \n",
              "2          NaN  \n",
              "3          NaN  \n",
              "4          NaN  "
            ]
          },
          "execution_count": 3,
          "metadata": {},
          "output_type": "execute_result"
        }
      ],
      "source": [
        "df = pd.read_csv('E-com_Data.csv')\n",
        "df.head()"
      ]
    },
    {
      "cell_type": "markdown",
      "id": "554925a2-dc86-4d9c-a11a-7d5419382e07",
      "metadata": {
        "id": "554925a2-dc86-4d9c-a11a-7d5419382e07"
      },
      "source": [
        "# Part 1 : Data Cleaning and EDA\n",
        "\n",
        "#### a) Identifying missing values and noise in the dataset\n",
        "#### b) Cleaning and visualizing the data\n",
        "#### b) Conducting analyses by invoice, product, other variable"
      ]
    },
    {
      "cell_type": "code",
      "execution_count": null,
      "id": "8d3b21c8-c519-4da3-b1c4-cc40420221fb",
      "metadata": {
        "id": "8d3b21c8-c519-4da3-b1c4-cc40420221fb",
        "outputId": "16f26f29-3eda-441a-ffb3-8d79f74296cf"
      },
      "outputs": [
        {
          "name": "stdout",
          "output_type": "stream",
          "text": [
            "<class 'pandas.core.frame.DataFrame'>\n",
            "RangeIndex: 541116 entries, 0 to 541115\n",
            "Data columns (total 12 columns):\n",
            " #   Column             Non-Null Count   Dtype  \n",
            "---  ------             --------------   -----  \n",
            " 0   CustomerID         404189 non-null  float64\n",
            " 1   Item Code          537979 non-null  object \n",
            " 2   InvoieNo           537979 non-null  float64\n",
            " 3   Date of purchase   537979 non-null  object \n",
            " 4   Quantity           537979 non-null  float64\n",
            " 5   Time               537979 non-null  object \n",
            " 6   price per Unit     537979 non-null  float64\n",
            " 7   Price              537979 non-null  float64\n",
            " 8   Shipping Location  537979 non-null  object \n",
            " 9   Cancelled_status   8345 non-null    object \n",
            " 10  Reason of return   3 non-null       object \n",
            " 11  Sold as set        0 non-null       float64\n",
            "dtypes: float64(6), object(6)\n",
            "memory usage: 49.5+ MB\n"
          ]
        }
      ],
      "source": [
        "df.info()"
      ]
    },
    {
      "cell_type": "code",
      "execution_count": null,
      "id": "579085d4-91c2-4259-9c49-2d8f69208e95",
      "metadata": {
        "id": "579085d4-91c2-4259-9c49-2d8f69208e95"
      },
      "outputs": [],
      "source": [
        "# CustomerID  - Mandatory\n",
        "# InvoieNo - Frequency\n",
        "# Date of purchase - Recency\n",
        "# Price - Monetory"
      ]
    },
    {
      "cell_type": "code",
      "execution_count": null,
      "id": "16d50c23-81d8-40ef-aa63-6bc2c7866458",
      "metadata": {
        "id": "16d50c23-81d8-40ef-aa63-6bc2c7866458",
        "outputId": "08594e70-5acb-4da4-bb71-f569938dc367"
      },
      "outputs": [
        {
          "data": {
            "text/html": [
              "<div>\n",
              "<style scoped>\n",
              "    .dataframe tbody tr th:only-of-type {\n",
              "        vertical-align: middle;\n",
              "    }\n",
              "\n",
              "    .dataframe tbody tr th {\n",
              "        vertical-align: top;\n",
              "    }\n",
              "\n",
              "    .dataframe thead th {\n",
              "        text-align: right;\n",
              "    }\n",
              "</style>\n",
              "<table border=\"1\" class=\"dataframe\">\n",
              "  <thead>\n",
              "    <tr style=\"text-align: right;\">\n",
              "      <th></th>\n",
              "      <th>count</th>\n",
              "      <th>mean</th>\n",
              "      <th>std</th>\n",
              "      <th>min</th>\n",
              "      <th>25%</th>\n",
              "      <th>50%</th>\n",
              "      <th>75%</th>\n",
              "      <th>max</th>\n",
              "    </tr>\n",
              "  </thead>\n",
              "  <tbody>\n",
              "    <tr>\n",
              "      <th>CustomerID</th>\n",
              "      <td>404189.0</td>\n",
              "      <td>2181.909035</td>\n",
              "      <td>1252.681881</td>\n",
              "      <td>2.0</td>\n",
              "      <td>1207.0</td>\n",
              "      <td>2078.0</td>\n",
              "      <td>3291.0</td>\n",
              "      <td>4372.0</td>\n",
              "    </tr>\n",
              "    <tr>\n",
              "      <th>InvoieNo</th>\n",
              "      <td>537979.0</td>\n",
              "      <td>385017.572063</td>\n",
              "      <td>13426.052649</td>\n",
              "      <td>361429.0</td>\n",
              "      <td>372961.0</td>\n",
              "      <td>385706.0</td>\n",
              "      <td>396873.0</td>\n",
              "      <td>406651.0</td>\n",
              "    </tr>\n",
              "    <tr>\n",
              "      <th>Quantity</th>\n",
              "      <td>537979.0</td>\n",
              "      <td>9.343339</td>\n",
              "      <td>27.623322</td>\n",
              "      <td>-2003.0</td>\n",
              "      <td>1.0</td>\n",
              "      <td>3.0</td>\n",
              "      <td>10.0</td>\n",
              "      <td>3186.0</td>\n",
              "    </tr>\n",
              "    <tr>\n",
              "      <th>price per Unit</th>\n",
              "      <td>537979.0</td>\n",
              "      <td>378.339062</td>\n",
              "      <td>440.048823</td>\n",
              "      <td>1.0</td>\n",
              "      <td>169.0</td>\n",
              "      <td>261.0</td>\n",
              "      <td>456.0</td>\n",
              "      <td>64973.0</td>\n",
              "    </tr>\n",
              "    <tr>\n",
              "      <th>Price</th>\n",
              "      <td>537979.0</td>\n",
              "      <td>2161.414593</td>\n",
              "      <td>4538.487177</td>\n",
              "      <td>-10152.0</td>\n",
              "      <td>451.0</td>\n",
              "      <td>1194.0</td>\n",
              "      <td>2232.0</td>\n",
              "      <td>90400.0</td>\n",
              "    </tr>\n",
              "    <tr>\n",
              "      <th>Sold as set</th>\n",
              "      <td>0.0</td>\n",
              "      <td>NaN</td>\n",
              "      <td>NaN</td>\n",
              "      <td>NaN</td>\n",
              "      <td>NaN</td>\n",
              "      <td>NaN</td>\n",
              "      <td>NaN</td>\n",
              "      <td>NaN</td>\n",
              "    </tr>\n",
              "  </tbody>\n",
              "</table>\n",
              "</div>"
            ],
            "text/plain": [
              "                   count           mean           std       min       25%  \\\n",
              "CustomerID      404189.0    2181.909035   1252.681881       2.0    1207.0   \n",
              "InvoieNo        537979.0  385017.572063  13426.052649  361429.0  372961.0   \n",
              "Quantity        537979.0       9.343339     27.623322   -2003.0       1.0   \n",
              "price per Unit  537979.0     378.339062    440.048823       1.0     169.0   \n",
              "Price           537979.0    2161.414593   4538.487177  -10152.0     451.0   \n",
              "Sold as set          0.0            NaN           NaN       NaN       NaN   \n",
              "\n",
              "                     50%       75%       max  \n",
              "CustomerID        2078.0    3291.0    4372.0  \n",
              "InvoieNo        385706.0  396873.0  406651.0  \n",
              "Quantity             3.0      10.0    3186.0  \n",
              "price per Unit     261.0     456.0   64973.0  \n",
              "Price             1194.0    2232.0   90400.0  \n",
              "Sold as set          NaN       NaN       NaN  "
            ]
          },
          "execution_count": 7,
          "metadata": {},
          "output_type": "execute_result"
        }
      ],
      "source": [
        "df.describe().T"
      ]
    },
    {
      "cell_type": "code",
      "execution_count": null,
      "id": "a95b0708-457a-4a90-879e-0137177a08a7",
      "metadata": {
        "id": "a95b0708-457a-4a90-879e-0137177a08a7",
        "outputId": "2c32390a-e1d2-471d-cedc-734df1a6bf6a"
      },
      "outputs": [
        {
          "data": {
            "text/plain": [
              "Index(['CustomerID', 'Item Code', 'InvoieNo', 'Date of purchase', 'Quantity',\n",
              "       'Time', 'price per Unit', 'Price', 'Shipping Location',\n",
              "       'Cancelled_status', 'Reason of return', 'Sold as set'],\n",
              "      dtype='object')"
            ]
          },
          "execution_count": 8,
          "metadata": {},
          "output_type": "execute_result"
        }
      ],
      "source": [
        "df.columns"
      ]
    },
    {
      "cell_type": "code",
      "execution_count": null,
      "id": "f7189565-fd95-4f9b-aedb-9aae05b02b35",
      "metadata": {
        "id": "f7189565-fd95-4f9b-aedb-9aae05b02b35"
      },
      "outputs": [],
      "source": [
        "drop_columns = ['Item Code','Quantity','Time', 'price per Unit','Shipping Location','Cancelled_status', 'Reason of return', 'Sold as set']\n",
        "df.drop(drop_columns, axis=1, inplace=True)"
      ]
    },
    {
      "cell_type": "code",
      "execution_count": null,
      "id": "5353c10a-288e-48e8-b763-0ea1602e6fdc",
      "metadata": {
        "id": "5353c10a-288e-48e8-b763-0ea1602e6fdc",
        "outputId": "43d98ba7-2758-4a25-942c-c3952d053e5b"
      },
      "outputs": [
        {
          "data": {
            "text/html": [
              "<div>\n",
              "<style scoped>\n",
              "    .dataframe tbody tr th:only-of-type {\n",
              "        vertical-align: middle;\n",
              "    }\n",
              "\n",
              "    .dataframe tbody tr th {\n",
              "        vertical-align: top;\n",
              "    }\n",
              "\n",
              "    .dataframe thead th {\n",
              "        text-align: right;\n",
              "    }\n",
              "</style>\n",
              "<table border=\"1\" class=\"dataframe\">\n",
              "  <thead>\n",
              "    <tr style=\"text-align: right;\">\n",
              "      <th></th>\n",
              "      <th>CustomerID</th>\n",
              "      <th>InvoieNo</th>\n",
              "      <th>Date of purchase</th>\n",
              "      <th>Price</th>\n",
              "    </tr>\n",
              "  </thead>\n",
              "  <tbody>\n",
              "    <tr>\n",
              "      <th>0</th>\n",
              "      <td>4355.0</td>\n",
              "      <td>398177.0</td>\n",
              "      <td>29-10-2017</td>\n",
              "      <td>1926.0</td>\n",
              "    </tr>\n",
              "    <tr>\n",
              "      <th>1</th>\n",
              "      <td>4352.0</td>\n",
              "      <td>394422.0</td>\n",
              "      <td>05-10-2017</td>\n",
              "      <td>1740.0</td>\n",
              "    </tr>\n",
              "    <tr>\n",
              "      <th>2</th>\n",
              "      <td>4352.0</td>\n",
              "      <td>394422.0</td>\n",
              "      <td>12-10-2017</td>\n",
              "      <td>1866.0</td>\n",
              "    </tr>\n",
              "    <tr>\n",
              "      <th>3</th>\n",
              "      <td>4352.0</td>\n",
              "      <td>388633.0</td>\n",
              "      <td>22-08-2017</td>\n",
              "      <td>1869.0</td>\n",
              "    </tr>\n",
              "    <tr>\n",
              "      <th>4</th>\n",
              "      <td>4352.0</td>\n",
              "      <td>394422.0</td>\n",
              "      <td>10-10-2017</td>\n",
              "      <td>1888.0</td>\n",
              "    </tr>\n",
              "  </tbody>\n",
              "</table>\n",
              "</div>"
            ],
            "text/plain": [
              "   CustomerID  InvoieNo Date of purchase   Price\n",
              "0      4355.0  398177.0       29-10-2017  1926.0\n",
              "1      4352.0  394422.0       05-10-2017  1740.0\n",
              "2      4352.0  394422.0       12-10-2017  1866.0\n",
              "3      4352.0  388633.0       22-08-2017  1869.0\n",
              "4      4352.0  394422.0       10-10-2017  1888.0"
            ]
          },
          "execution_count": 10,
          "metadata": {},
          "output_type": "execute_result"
        }
      ],
      "source": [
        "df.head()"
      ]
    },
    {
      "cell_type": "code",
      "execution_count": null,
      "id": "8a3a96de-2987-4539-8fb1-0c7416ea5aa4",
      "metadata": {
        "id": "8a3a96de-2987-4539-8fb1-0c7416ea5aa4",
        "outputId": "87eb341b-b578-4e9d-9b13-b99eaa5819da"
      },
      "outputs": [
        {
          "data": {
            "text/plain": [
              "6008"
            ]
          },
          "execution_count": 11,
          "metadata": {},
          "output_type": "execute_result"
        }
      ],
      "source": [
        "df.duplicated().sum()"
      ]
    },
    {
      "cell_type": "code",
      "execution_count": null,
      "id": "d5a3e80d-a4d2-4c3d-8aec-e553fd008b39",
      "metadata": {
        "id": "d5a3e80d-a4d2-4c3d-8aec-e553fd008b39"
      },
      "outputs": [],
      "source": [
        "df.drop_duplicates(inplace=True)"
      ]
    },
    {
      "cell_type": "code",
      "execution_count": null,
      "id": "faf93553-a9ec-4017-9aa5-cc2b6690bcde",
      "metadata": {
        "id": "faf93553-a9ec-4017-9aa5-cc2b6690bcde",
        "outputId": "92194c84-81ce-4620-ad12-f01647dfcee7"
      },
      "outputs": [
        {
          "data": {
            "text/plain": [
              "0"
            ]
          },
          "execution_count": 13,
          "metadata": {},
          "output_type": "execute_result"
        }
      ],
      "source": [
        "df.duplicated().sum()"
      ]
    },
    {
      "cell_type": "code",
      "execution_count": null,
      "id": "1c481ae5-8e82-431c-8b9e-a5a358ab4868",
      "metadata": {
        "id": "1c481ae5-8e82-431c-8b9e-a5a358ab4868",
        "outputId": "32a2d855-6158-4b78-9490-625f8574e225"
      },
      "outputs": [
        {
          "data": {
            "text/plain": [
              "-10152.0"
            ]
          },
          "execution_count": 14,
          "metadata": {},
          "output_type": "execute_result"
        }
      ],
      "source": [
        "df.Price.min()"
      ]
    },
    {
      "cell_type": "code",
      "execution_count": null,
      "id": "3e82319b-c8e2-4a4e-8153-8a04b7aa6848",
      "metadata": {
        "id": "3e82319b-c8e2-4a4e-8153-8a04b7aa6848",
        "outputId": "46d9375d-b9cb-47a3-948d-62b9a059e402"
      },
      "outputs": [
        {
          "data": {
            "text/html": [
              "<div>\n",
              "<style scoped>\n",
              "    .dataframe tbody tr th:only-of-type {\n",
              "        vertical-align: middle;\n",
              "    }\n",
              "\n",
              "    .dataframe tbody tr th {\n",
              "        vertical-align: top;\n",
              "    }\n",
              "\n",
              "    .dataframe thead th {\n",
              "        text-align: right;\n",
              "    }\n",
              "</style>\n",
              "<table border=\"1\" class=\"dataframe\">\n",
              "  <thead>\n",
              "    <tr style=\"text-align: right;\">\n",
              "      <th></th>\n",
              "      <th>count</th>\n",
              "      <th>mean</th>\n",
              "      <th>std</th>\n",
              "      <th>min</th>\n",
              "      <th>25%</th>\n",
              "      <th>50%</th>\n",
              "      <th>75%</th>\n",
              "      <th>max</th>\n",
              "    </tr>\n",
              "  </thead>\n",
              "  <tbody>\n",
              "    <tr>\n",
              "      <th>CustomerID</th>\n",
              "      <td>402859.0</td>\n",
              "      <td>2182.187224</td>\n",
              "      <td>1252.636483</td>\n",
              "      <td>2.0</td>\n",
              "      <td>1207.0</td>\n",
              "      <td>2078.0</td>\n",
              "      <td>3291.0</td>\n",
              "      <td>4372.0</td>\n",
              "    </tr>\n",
              "    <tr>\n",
              "      <th>InvoieNo</th>\n",
              "      <td>535107.0</td>\n",
              "      <td>385009.702116</td>\n",
              "      <td>13418.210488</td>\n",
              "      <td>361429.0</td>\n",
              "      <td>372964.0</td>\n",
              "      <td>385665.0</td>\n",
              "      <td>396811.0</td>\n",
              "      <td>406651.0</td>\n",
              "    </tr>\n",
              "    <tr>\n",
              "      <th>Price</th>\n",
              "      <td>535107.0</td>\n",
              "      <td>2167.848915</td>\n",
              "      <td>4547.338495</td>\n",
              "      <td>-10152.0</td>\n",
              "      <td>453.0</td>\n",
              "      <td>1200.0</td>\n",
              "      <td>2236.0</td>\n",
              "      <td>90400.0</td>\n",
              "    </tr>\n",
              "  </tbody>\n",
              "</table>\n",
              "</div>"
            ],
            "text/plain": [
              "               count           mean           std       min       25%  \\\n",
              "CustomerID  402859.0    2182.187224   1252.636483       2.0    1207.0   \n",
              "InvoieNo    535107.0  385009.702116  13418.210488  361429.0  372964.0   \n",
              "Price       535107.0    2167.848915   4547.338495  -10152.0     453.0   \n",
              "\n",
              "                 50%       75%       max  \n",
              "CustomerID    2078.0    3291.0    4372.0  \n",
              "InvoieNo    385665.0  396811.0  406651.0  \n",
              "Price         1200.0    2236.0   90400.0  "
            ]
          },
          "execution_count": 15,
          "metadata": {},
          "output_type": "execute_result"
        }
      ],
      "source": [
        "df.describe().T"
      ]
    },
    {
      "cell_type": "code",
      "execution_count": null,
      "id": "46837cae-6189-4c92-ae40-5d3f867b3997",
      "metadata": {
        "id": "46837cae-6189-4c92-ae40-5d3f867b3997",
        "outputId": "ecb414ad-84f3-418c-e4d1-025917cedde1"
      },
      "outputs": [
        {
          "data": {
            "text/html": [
              "<div>\n",
              "<style scoped>\n",
              "    .dataframe tbody tr th:only-of-type {\n",
              "        vertical-align: middle;\n",
              "    }\n",
              "\n",
              "    .dataframe tbody tr th {\n",
              "        vertical-align: top;\n",
              "    }\n",
              "\n",
              "    .dataframe thead th {\n",
              "        text-align: right;\n",
              "    }\n",
              "</style>\n",
              "<table border=\"1\" class=\"dataframe\">\n",
              "  <thead>\n",
              "    <tr style=\"text-align: right;\">\n",
              "      <th></th>\n",
              "      <th>missing_number</th>\n",
              "      <th>missing_percent</th>\n",
              "    </tr>\n",
              "  </thead>\n",
              "  <tbody>\n",
              "    <tr>\n",
              "      <th>CustomerID</th>\n",
              "      <td>132249</td>\n",
              "      <td>0.247145</td>\n",
              "    </tr>\n",
              "    <tr>\n",
              "      <th>InvoieNo</th>\n",
              "      <td>1</td>\n",
              "      <td>0.000002</td>\n",
              "    </tr>\n",
              "    <tr>\n",
              "      <th>Date of purchase</th>\n",
              "      <td>1</td>\n",
              "      <td>0.000002</td>\n",
              "    </tr>\n",
              "    <tr>\n",
              "      <th>Price</th>\n",
              "      <td>1</td>\n",
              "      <td>0.000002</td>\n",
              "    </tr>\n",
              "  </tbody>\n",
              "</table>\n",
              "</div>"
            ],
            "text/plain": [
              "                  missing_number  missing_percent\n",
              "CustomerID                132249         0.247145\n",
              "InvoieNo                       1         0.000002\n",
              "Date of purchase               1         0.000002\n",
              "Price                          1         0.000002"
            ]
          },
          "execution_count": 16,
          "metadata": {},
          "output_type": "execute_result"
        }
      ],
      "source": [
        "def missing_values(df):\n",
        "    missing_number = df.isnull().sum().sort_values(ascending=False)\n",
        "    missing_percent = (df.isnull().sum()/ df.isnull().count()).sort_values(ascending=False)\n",
        "    missing_values = pd.concat([missing_number, missing_percent], axis=1, keys=[\"missing_number\",\"missing_percent\"])\n",
        "    return missing_values[missing_values[\"missing_number\"]>0]\n",
        "missing_values(df)"
      ]
    },
    {
      "cell_type": "code",
      "execution_count": null,
      "id": "f220b10b-8280-474a-8bc4-8d8ccdad2b3f",
      "metadata": {
        "id": "f220b10b-8280-474a-8bc4-8d8ccdad2b3f",
        "outputId": "2fd23a67-4cc0-4889-88a4-fdef1d6b22d0"
      },
      "outputs": [
        {
          "data": {
            "text/plain": [
              "CustomerID          132249\n",
              "InvoieNo                 1\n",
              "Date of purchase         1\n",
              "Price                    1\n",
              "dtype: int64"
            ]
          },
          "execution_count": 17,
          "metadata": {},
          "output_type": "execute_result"
        }
      ],
      "source": [
        "df.isnull().sum().sort_values(ascending=False)"
      ]
    },
    {
      "cell_type": "code",
      "execution_count": null,
      "id": "69db7121-19c5-4bb7-819f-6a451deda21f",
      "metadata": {
        "id": "69db7121-19c5-4bb7-819f-6a451deda21f",
        "outputId": "85303627-7de0-41d8-929e-d32257e794d4"
      },
      "outputs": [
        {
          "data": {
            "text/plain": [
              "CustomerID          0.247145\n",
              "InvoieNo            0.000002\n",
              "Date of purchase    0.000002\n",
              "Price               0.000002\n",
              "dtype: float64"
            ]
          },
          "execution_count": 18,
          "metadata": {},
          "output_type": "execute_result"
        }
      ],
      "source": [
        "(df.isnull().sum()/ df.isnull().count()).sort_values(ascending=False)"
      ]
    },
    {
      "cell_type": "code",
      "execution_count": null,
      "id": "8e57383e-993f-4bc2-9af5-398f50adfbeb",
      "metadata": {
        "id": "8e57383e-993f-4bc2-9af5-398f50adfbeb",
        "outputId": "07fcb4f9-93fe-4581-9cff-5c7118441226"
      },
      "outputs": [
        {
          "name": "stdout",
          "output_type": "stream",
          "text": [
            "<class 'pandas.core.frame.DataFrame'>\n",
            "Index: 402859 entries, 0 to 537949\n",
            "Data columns (total 4 columns):\n",
            " #   Column            Non-Null Count   Dtype  \n",
            "---  ------            --------------   -----  \n",
            " 0   CustomerID        402859 non-null  float64\n",
            " 1   InvoieNo          402859 non-null  float64\n",
            " 2   Date of purchase  402859 non-null  object \n",
            " 3   Price             402859 non-null  float64\n",
            "dtypes: float64(3), object(1)\n",
            "memory usage: 15.4+ MB\n"
          ]
        }
      ],
      "source": [
        "df = df.dropna(subset=['CustomerID'])\n",
        "df.info()"
      ]
    },
    {
      "cell_type": "code",
      "execution_count": null,
      "id": "1a2cc23f-c768-4fb1-a27e-c273ce9088bf",
      "metadata": {
        "id": "1a2cc23f-c768-4fb1-a27e-c273ce9088bf",
        "outputId": "211085a0-7758-4ac3-ec76-e7d56c5f5e80"
      },
      "outputs": [
        {
          "data": {
            "text/plain": [
              "CustomerID          0.0\n",
              "InvoieNo            0.0\n",
              "Date of purchase    0.0\n",
              "Price               0.0\n",
              "dtype: float64"
            ]
          },
          "execution_count": 20,
          "metadata": {},
          "output_type": "execute_result"
        }
      ],
      "source": [
        "(df.isnull().sum()/ df.isnull().count()).sort_values(ascending=False)"
      ]
    },
    {
      "cell_type": "code",
      "execution_count": null,
      "id": "c2d1d59f-8d97-464c-9587-f68a9a8e4677",
      "metadata": {
        "id": "c2d1d59f-8d97-464c-9587-f68a9a8e4677",
        "outputId": "65d72a1f-bfbd-40be-b5a9-f51ab477e3d8"
      },
      "outputs": [
        {
          "name": "stdout",
          "output_type": "stream",
          "text": [
            "<class 'pandas.core.frame.DataFrame'>\n",
            "Index: 402859 entries, 0 to 537949\n",
            "Data columns (total 4 columns):\n",
            " #   Column            Non-Null Count   Dtype  \n",
            "---  ------            --------------   -----  \n",
            " 0   CustomerID        402859 non-null  float64\n",
            " 1   InvoieNo          402859 non-null  float64\n",
            " 2   Date of purchase  402859 non-null  object \n",
            " 3   Price             402859 non-null  float64\n",
            "dtypes: float64(3), object(1)\n",
            "memory usage: 15.4+ MB\n"
          ]
        }
      ],
      "source": [
        "df.info()"
      ]
    },
    {
      "cell_type": "code",
      "execution_count": null,
      "id": "e242e727-2b52-4063-8f6d-36ab3973576c",
      "metadata": {
        "id": "e242e727-2b52-4063-8f6d-36ab3973576c"
      },
      "outputs": [],
      "source": [
        "import datetime\n",
        "df['Date of purchase'] = pd.to_datetime(df['Date of purchase'])"
      ]
    },
    {
      "cell_type": "code",
      "execution_count": null,
      "id": "2e67abd8-f3ec-417e-a063-e9a38f7cb9ae",
      "metadata": {
        "id": "2e67abd8-f3ec-417e-a063-e9a38f7cb9ae"
      },
      "outputs": [],
      "source": [
        "df = df.rename( columns = {'InvoieNo': \"InvoiceNo\", \"Date of purchase\":\"Date\"})"
      ]
    },
    {
      "cell_type": "code",
      "execution_count": null,
      "id": "23d96e5c-4d9c-4bcb-abe9-10753583d2db",
      "metadata": {
        "id": "23d96e5c-4d9c-4bcb-abe9-10753583d2db",
        "outputId": "4c93b1f2-b48c-43ac-bc0b-b73ec63474f0"
      },
      "outputs": [
        {
          "data": {
            "text/html": [
              "<div>\n",
              "<style scoped>\n",
              "    .dataframe tbody tr th:only-of-type {\n",
              "        vertical-align: middle;\n",
              "    }\n",
              "\n",
              "    .dataframe tbody tr th {\n",
              "        vertical-align: top;\n",
              "    }\n",
              "\n",
              "    .dataframe thead th {\n",
              "        text-align: right;\n",
              "    }\n",
              "</style>\n",
              "<table border=\"1\" class=\"dataframe\">\n",
              "  <thead>\n",
              "    <tr style=\"text-align: right;\">\n",
              "      <th></th>\n",
              "      <th>CustomerID</th>\n",
              "      <th>InvoiceNo</th>\n",
              "      <th>Date</th>\n",
              "      <th>Price</th>\n",
              "    </tr>\n",
              "  </thead>\n",
              "  <tbody>\n",
              "    <tr>\n",
              "      <th>0</th>\n",
              "      <td>4355.0</td>\n",
              "      <td>398177.0</td>\n",
              "      <td>2017-10-29</td>\n",
              "      <td>1926.0</td>\n",
              "    </tr>\n",
              "    <tr>\n",
              "      <th>1</th>\n",
              "      <td>4352.0</td>\n",
              "      <td>394422.0</td>\n",
              "      <td>2017-10-05</td>\n",
              "      <td>1740.0</td>\n",
              "    </tr>\n",
              "    <tr>\n",
              "      <th>2</th>\n",
              "      <td>4352.0</td>\n",
              "      <td>394422.0</td>\n",
              "      <td>2017-10-12</td>\n",
              "      <td>1866.0</td>\n",
              "    </tr>\n",
              "    <tr>\n",
              "      <th>3</th>\n",
              "      <td>4352.0</td>\n",
              "      <td>388633.0</td>\n",
              "      <td>2017-08-22</td>\n",
              "      <td>1869.0</td>\n",
              "    </tr>\n",
              "    <tr>\n",
              "      <th>4</th>\n",
              "      <td>4352.0</td>\n",
              "      <td>394422.0</td>\n",
              "      <td>2017-10-10</td>\n",
              "      <td>1888.0</td>\n",
              "    </tr>\n",
              "  </tbody>\n",
              "</table>\n",
              "</div>"
            ],
            "text/plain": [
              "   CustomerID  InvoiceNo       Date   Price\n",
              "0      4355.0   398177.0 2017-10-29  1926.0\n",
              "1      4352.0   394422.0 2017-10-05  1740.0\n",
              "2      4352.0   394422.0 2017-10-12  1866.0\n",
              "3      4352.0   388633.0 2017-08-22  1869.0\n",
              "4      4352.0   394422.0 2017-10-10  1888.0"
            ]
          },
          "execution_count": 24,
          "metadata": {},
          "output_type": "execute_result"
        }
      ],
      "source": [
        "df.head()"
      ]
    },
    {
      "cell_type": "code",
      "execution_count": null,
      "id": "61af6797-a7e4-4249-ada0-0954ed18c3e2",
      "metadata": {
        "id": "61af6797-a7e4-4249-ada0-0954ed18c3e2",
        "outputId": "7a011a20-2006-4131-a319-39126fbb8d9b"
      },
      "outputs": [
        {
          "data": {
            "text/plain": [
              "count                           402859\n",
              "mean     2017-07-15 14:25:02.538605056\n",
              "min                2016-12-02 00:00:00\n",
              "25%                2017-04-12 00:00:00\n",
              "50%                2017-08-05 00:00:00\n",
              "75%                2017-10-26 00:00:00\n",
              "max                2017-12-19 00:00:00\n",
              "Name: Date, dtype: object"
            ]
          },
          "execution_count": 25,
          "metadata": {},
          "output_type": "execute_result"
        }
      ],
      "source": [
        "df['Date'].describe().T"
      ]
    },
    {
      "cell_type": "code",
      "execution_count": null,
      "id": "ae43b4c4-e93b-4c1a-9772-6da7574a84fc",
      "metadata": {
        "id": "ae43b4c4-e93b-4c1a-9772-6da7574a84fc",
        "outputId": "388e0c64-ced4-4d0e-f88b-a11b2a7011a3"
      },
      "outputs": [
        {
          "data": {
            "text/plain": [
              "4349"
            ]
          },
          "execution_count": 26,
          "metadata": {},
          "output_type": "execute_result"
        }
      ],
      "source": [
        "df['CustomerID'].nunique()"
      ]
    },
    {
      "cell_type": "code",
      "execution_count": null,
      "id": "1f82e2ca-bf4a-4fda-948e-ba6c23cdf5fe",
      "metadata": {
        "id": "1f82e2ca-bf4a-4fda-948e-ba6c23cdf5fe",
        "outputId": "888c3047-4542-45f9-ece3-f953cc38cffe"
      },
      "outputs": [
        {
          "data": {
            "text/plain": [
              "datetime.datetime(2017, 12, 20, 0, 0)"
            ]
          },
          "execution_count": 27,
          "metadata": {},
          "output_type": "execute_result"
        }
      ],
      "source": [
        "new_date = datetime.datetime(2017,12,20)\n",
        "new_date"
      ]
    },
    {
      "cell_type": "code",
      "execution_count": null,
      "id": "66527705-5ea1-47e1-ab0b-ca7ba9882883",
      "metadata": {
        "id": "66527705-5ea1-47e1-ab0b-ca7ba9882883",
        "outputId": "1ba54be6-484a-4622-f609-d599cc3a1b1c"
      },
      "outputs": [
        {
          "data": {
            "text/plain": [
              "0         False\n",
              "1          True\n",
              "2          True\n",
              "3          True\n",
              "4          True\n",
              "          ...  \n",
              "537945    False\n",
              "537946    False\n",
              "537947    False\n",
              "537948    False\n",
              "537949    False\n",
              "Name: CustomerID, Length: 402859, dtype: bool"
            ]
          },
          "execution_count": 28,
          "metadata": {},
          "output_type": "execute_result"
        }
      ],
      "source": [
        "df['CustomerID']==4352.0"
      ]
    },
    {
      "cell_type": "markdown",
      "id": "6f3332f6-822d-4225-a04c-259ff849e01f",
      "metadata": {
        "id": "6f3332f6-822d-4225-a04c-259ff849e01f"
      },
      "source": [
        "# Part 2:  Customer Segmentation using RFM analysis"
      ]
    },
    {
      "cell_type": "markdown",
      "id": "51cf16a1-1f72-4a5b-97d5-5df41a74efd9",
      "metadata": {
        "id": "51cf16a1-1f72-4a5b-97d5-5df41a74efd9"
      },
      "source": [
        "##### **RFM Analysis** : is a marketing techniques and method used to evaluate customer behavior\n",
        "###### RFM stands for **Recency**, **Frequency**, and **Monetary**\n",
        "\n",
        "- **Recency:** Indicates how recently a customer has made a purchase. Customer who have purchased more recently have a higher recency score.\n",
        "- **Frequency:** Represents how many times a customer has made a purchase within a specific time period(typically within a year). Customer who\n",
        "purchase more frequently have a higher frequency score\n",
        "\n",
        "- **Monetary:** Refers to the total amount a customer has spent within a specific time period. Customer who spend more have a higher monetary score.\n",
        "\n",
        "- A Score of **5** represent the best customers (most recent, most frequent, and highest spending)\n",
        "- A score of **1** represent the lease engaged customers.\n",
        "\n",
        "- **Prime (vip) Customers**\n",
        "- **Loyal customers**\n",
        "- **Potential customer**"
      ]
    },
    {
      "cell_type": "code",
      "execution_count": null,
      "id": "b4bc15bc-1da2-4f4c-904d-fb28df5ff824",
      "metadata": {
        "id": "b4bc15bc-1da2-4f4c-904d-fb28df5ff824",
        "outputId": "e57c3302-a05f-40eb-87e2-3aa5687b2b80"
      },
      "outputs": [
        {
          "data": {
            "text/html": [
              "<div>\n",
              "<style scoped>\n",
              "    .dataframe tbody tr th:only-of-type {\n",
              "        vertical-align: middle;\n",
              "    }\n",
              "\n",
              "    .dataframe tbody tr th {\n",
              "        vertical-align: top;\n",
              "    }\n",
              "\n",
              "    .dataframe thead th {\n",
              "        text-align: right;\n",
              "    }\n",
              "</style>\n",
              "<table border=\"1\" class=\"dataframe\">\n",
              "  <thead>\n",
              "    <tr style=\"text-align: right;\">\n",
              "      <th></th>\n",
              "      <th>CustomerID</th>\n",
              "      <th>Recency</th>\n",
              "      <th>Frequency</th>\n",
              "      <th>Monetary</th>\n",
              "    </tr>\n",
              "  </thead>\n",
              "  <tbody>\n",
              "    <tr>\n",
              "      <th>0</th>\n",
              "      <td>2.0</td>\n",
              "      <td>4</td>\n",
              "      <td>181</td>\n",
              "      <td>550416.0</td>\n",
              "    </tr>\n",
              "    <tr>\n",
              "      <th>1</th>\n",
              "      <td>3.0</td>\n",
              "      <td>77</td>\n",
              "      <td>27</td>\n",
              "      <td>257404.0</td>\n",
              "    </tr>\n",
              "    <tr>\n",
              "      <th>2</th>\n",
              "      <td>4.0</td>\n",
              "      <td>19</td>\n",
              "      <td>72</td>\n",
              "      <td>176613.0</td>\n",
              "    </tr>\n",
              "    <tr>\n",
              "      <th>3</th>\n",
              "      <td>5.0</td>\n",
              "      <td>311</td>\n",
              "      <td>16</td>\n",
              "      <td>41976.0</td>\n",
              "    </tr>\n",
              "    <tr>\n",
              "      <th>4</th>\n",
              "      <td>6.0</td>\n",
              "      <td>37</td>\n",
              "      <td>84</td>\n",
              "      <td>151822.0</td>\n",
              "    </tr>\n",
              "    <tr>\n",
              "      <th>...</th>\n",
              "      <td>...</td>\n",
              "      <td>...</td>\n",
              "      <td>...</td>\n",
              "      <td>...</td>\n",
              "    </tr>\n",
              "    <tr>\n",
              "      <th>4344</th>\n",
              "      <td>4368.0</td>\n",
              "      <td>278</td>\n",
              "      <td>10</td>\n",
              "      <td>20480.0</td>\n",
              "    </tr>\n",
              "    <tr>\n",
              "      <th>4345</th>\n",
              "      <td>4369.0</td>\n",
              "      <td>181</td>\n",
              "      <td>7</td>\n",
              "      <td>10774.0</td>\n",
              "    </tr>\n",
              "    <tr>\n",
              "      <th>4346</th>\n",
              "      <td>4370.0</td>\n",
              "      <td>9</td>\n",
              "      <td>13</td>\n",
              "      <td>24962.0</td>\n",
              "    </tr>\n",
              "    <tr>\n",
              "      <th>4347</th>\n",
              "      <td>4371.0</td>\n",
              "      <td>4</td>\n",
              "      <td>751</td>\n",
              "      <td>279720.0</td>\n",
              "    </tr>\n",
              "    <tr>\n",
              "      <th>4348</th>\n",
              "      <td>4372.0</td>\n",
              "      <td>44</td>\n",
              "      <td>68</td>\n",
              "      <td>256952.0</td>\n",
              "    </tr>\n",
              "  </tbody>\n",
              "</table>\n",
              "<p>4349 rows × 4 columns</p>\n",
              "</div>"
            ],
            "text/plain": [
              "      CustomerID  Recency  Frequency  Monetary\n",
              "0            2.0        4        181  550416.0\n",
              "1            3.0       77         27  257404.0\n",
              "2            4.0       19         72  176613.0\n",
              "3            5.0      311         16   41976.0\n",
              "4            6.0       37         84  151822.0\n",
              "...          ...      ...        ...       ...\n",
              "4344      4368.0      278         10   20480.0\n",
              "4345      4369.0      181          7   10774.0\n",
              "4346      4370.0        9         13   24962.0\n",
              "4347      4371.0        4        751  279720.0\n",
              "4348      4372.0       44         68  256952.0\n",
              "\n",
              "[4349 rows x 4 columns]"
            ]
          },
          "execution_count": 31,
          "metadata": {},
          "output_type": "execute_result"
        }
      ],
      "source": [
        "RFMApproach = df.groupby('CustomerID').agg({'Date': lambda x: (new_date - x.max()).days,\n",
        "                                            'InvoiceNo': lambda x: x.count(),\n",
        "                                            'Price': lambda x: x.sum()})\n",
        "RFMApproach.rename(columns = {'Date':'Recency', 'InvoiceNo':'Frequency','Price':'Monetary'}, inplace=True)\n",
        "RFMApproach.reset_index()"
      ]
    },
    {
      "cell_type": "code",
      "execution_count": null,
      "id": "ae12032e-a0cd-423f-9f55-2796c9aa9bef",
      "metadata": {
        "id": "ae12032e-a0cd-423f-9f55-2796c9aa9bef",
        "outputId": "8a74e971-5aa9-4d26-dc85-e4636b2a8ddd"
      },
      "outputs": [
        {
          "data": {
            "text/html": [
              "<div>\n",
              "<style scoped>\n",
              "    .dataframe tbody tr th:only-of-type {\n",
              "        vertical-align: middle;\n",
              "    }\n",
              "\n",
              "    .dataframe tbody tr th {\n",
              "        vertical-align: top;\n",
              "    }\n",
              "\n",
              "    .dataframe thead th {\n",
              "        text-align: right;\n",
              "    }\n",
              "</style>\n",
              "<table border=\"1\" class=\"dataframe\">\n",
              "  <thead>\n",
              "    <tr style=\"text-align: right;\">\n",
              "      <th></th>\n",
              "      <th>count</th>\n",
              "      <th>mean</th>\n",
              "      <th>std</th>\n",
              "      <th>min</th>\n",
              "      <th>25%</th>\n",
              "      <th>50%</th>\n",
              "      <th>75%</th>\n",
              "      <th>max</th>\n",
              "    </tr>\n",
              "  </thead>\n",
              "  <tbody>\n",
              "    <tr>\n",
              "      <th>Recency</th>\n",
              "      <td>4349.0</td>\n",
              "      <td>93.299379</td>\n",
              "      <td>100.701315</td>\n",
              "      <td>1.0</td>\n",
              "      <td>18.0</td>\n",
              "      <td>51.0</td>\n",
              "      <td>144.0</td>\n",
              "      <td>381.0</td>\n",
              "    </tr>\n",
              "    <tr>\n",
              "      <th>Frequency</th>\n",
              "      <td>4349.0</td>\n",
              "      <td>92.632559</td>\n",
              "      <td>230.742279</td>\n",
              "      <td>1.0</td>\n",
              "      <td>17.0</td>\n",
              "      <td>42.0</td>\n",
              "      <td>101.0</td>\n",
              "      <td>7919.0</td>\n",
              "    </tr>\n",
              "    <tr>\n",
              "      <th>Monetary</th>\n",
              "      <td>4349.0</td>\n",
              "      <td>229493.932881</td>\n",
              "      <td>855668.518674</td>\n",
              "      <td>-50372.0</td>\n",
              "      <td>38140.0</td>\n",
              "      <td>83635.0</td>\n",
              "      <td>205444.0</td>\n",
              "      <td>35472089.0</td>\n",
              "    </tr>\n",
              "  </tbody>\n",
              "</table>\n",
              "</div>"
            ],
            "text/plain": [
              "            count           mean            std      min      25%      50%  \\\n",
              "Recency    4349.0      93.299379     100.701315      1.0     18.0     51.0   \n",
              "Frequency  4349.0      92.632559     230.742279      1.0     17.0     42.0   \n",
              "Monetary   4349.0  229493.932881  855668.518674 -50372.0  38140.0  83635.0   \n",
              "\n",
              "                75%         max  \n",
              "Recency       144.0       381.0  \n",
              "Frequency     101.0      7919.0  \n",
              "Monetary   205444.0  35472089.0  "
            ]
          },
          "execution_count": 65,
          "metadata": {},
          "output_type": "execute_result"
        }
      ],
      "source": [
        "RFMApproach.describe().T"
      ]
    },
    {
      "cell_type": "code",
      "execution_count": null,
      "id": "20387eb2-208d-499b-96fd-9616877fa79f",
      "metadata": {
        "id": "20387eb2-208d-499b-96fd-9616877fa79f",
        "outputId": "14eb2212-ee25-49bb-ca6b-dc3409d6d362"
      },
      "outputs": [
        {
          "data": {
            "text/plain": [
              "{'Recency': {0.25: 18.0, 0.5: 51.0, 0.75: 144.0},\n",
              " 'Frequency': {0.25: 17.0, 0.5: 42.0, 0.75: 101.0},\n",
              " 'Monetary': {0.25: 38140.0, 0.5: 83635.0, 0.75: 205444.0}}"
            ]
          },
          "execution_count": 67,
          "metadata": {},
          "output_type": "execute_result"
        }
      ],
      "source": [
        "# Split the data into 4 segment basis quantile method\n",
        "\n",
        "quantiles = RFMApproach.quantile(q=[0.25, 0.50, 0.75])\n",
        "quantiles = quantiles.to_dict()\n",
        "quantiles"
      ]
    },
    {
      "cell_type": "code",
      "execution_count": null,
      "id": "a72a582f-aa0f-4fb4-befe-e9de73c48fea",
      "metadata": {
        "id": "a72a582f-aa0f-4fb4-befe-e9de73c48fea"
      },
      "outputs": [],
      "source": [
        "def Recency_value(x, p, d):\n",
        "    if x <= d[p][0.25]:\n",
        "        return 1\n",
        "    elif x <= d[p][0.5]:\n",
        "        return 2\n",
        "    elif x <= d[p][0.75]:\n",
        "        return 3\n",
        "    else:\n",
        "        return 4"
      ]
    },
    {
      "cell_type": "code",
      "execution_count": null,
      "id": "f669f9a9-4779-40ee-8ebf-09552c578b77",
      "metadata": {
        "id": "f669f9a9-4779-40ee-8ebf-09552c578b77"
      },
      "outputs": [],
      "source": [
        "def Freq_Mont_value(x, p, d):\n",
        "    if x <= d[p][0.25]:\n",
        "        return 4\n",
        "    elif x <= d[p][0.5]:\n",
        "        return 3\n",
        "    elif x <= d[p][0.75]:\n",
        "        return 2\n",
        "    else:\n",
        "        return 1"
      ]
    },
    {
      "cell_type": "code",
      "execution_count": null,
      "id": "aef9fddb-402c-467e-b91c-19ba708c3e8c",
      "metadata": {
        "id": "aef9fddb-402c-467e-b91c-19ba708c3e8c"
      },
      "outputs": [],
      "source": [
        "RFMApproach['R'] = RFMApproach['Recency'].apply(Recency_value, args=('Recency', quantiles))\n",
        "RFMApproach['F'] = RFMApproach['Frequency'].apply(Freq_Mont_value, args=('Frequency', quantiles))\n",
        "RFMApproach['M'] = RFMApproach['Monetary'].apply(Freq_Mont_value, args=('Monetary', quantiles))"
      ]
    },
    {
      "cell_type": "code",
      "execution_count": null,
      "id": "5e96d842-d7df-454b-9552-be6971129355",
      "metadata": {
        "id": "5e96d842-d7df-454b-9552-be6971129355",
        "outputId": "7774267b-ad22-44ba-f15a-d6a77fef93ab"
      },
      "outputs": [
        {
          "data": {
            "text/html": [
              "<div>\n",
              "<style scoped>\n",
              "    .dataframe tbody tr th:only-of-type {\n",
              "        vertical-align: middle;\n",
              "    }\n",
              "\n",
              "    .dataframe tbody tr th {\n",
              "        vertical-align: top;\n",
              "    }\n",
              "\n",
              "    .dataframe thead th {\n",
              "        text-align: right;\n",
              "    }\n",
              "</style>\n",
              "<table border=\"1\" class=\"dataframe\">\n",
              "  <thead>\n",
              "    <tr style=\"text-align: right;\">\n",
              "      <th></th>\n",
              "      <th>CustomerID</th>\n",
              "      <th>Recency</th>\n",
              "      <th>Frequency</th>\n",
              "      <th>Monetary</th>\n",
              "      <th>R</th>\n",
              "      <th>F</th>\n",
              "      <th>M</th>\n",
              "    </tr>\n",
              "  </thead>\n",
              "  <tbody>\n",
              "    <tr>\n",
              "      <th>0</th>\n",
              "      <td>2.0</td>\n",
              "      <td>4</td>\n",
              "      <td>181</td>\n",
              "      <td>550416.0</td>\n",
              "      <td>1</td>\n",
              "      <td>1</td>\n",
              "      <td>1</td>\n",
              "    </tr>\n",
              "    <tr>\n",
              "      <th>1</th>\n",
              "      <td>3.0</td>\n",
              "      <td>77</td>\n",
              "      <td>27</td>\n",
              "      <td>257404.0</td>\n",
              "      <td>3</td>\n",
              "      <td>3</td>\n",
              "      <td>1</td>\n",
              "    </tr>\n",
              "    <tr>\n",
              "      <th>2</th>\n",
              "      <td>4.0</td>\n",
              "      <td>19</td>\n",
              "      <td>72</td>\n",
              "      <td>176613.0</td>\n",
              "      <td>2</td>\n",
              "      <td>2</td>\n",
              "      <td>2</td>\n",
              "    </tr>\n",
              "    <tr>\n",
              "      <th>3</th>\n",
              "      <td>5.0</td>\n",
              "      <td>311</td>\n",
              "      <td>16</td>\n",
              "      <td>41976.0</td>\n",
              "      <td>4</td>\n",
              "      <td>4</td>\n",
              "      <td>3</td>\n",
              "    </tr>\n",
              "    <tr>\n",
              "      <th>4</th>\n",
              "      <td>6.0</td>\n",
              "      <td>37</td>\n",
              "      <td>84</td>\n",
              "      <td>151822.0</td>\n",
              "      <td>2</td>\n",
              "      <td>2</td>\n",
              "      <td>2</td>\n",
              "    </tr>\n",
              "    <tr>\n",
              "      <th>...</th>\n",
              "      <td>...</td>\n",
              "      <td>...</td>\n",
              "      <td>...</td>\n",
              "      <td>...</td>\n",
              "      <td>...</td>\n",
              "      <td>...</td>\n",
              "      <td>...</td>\n",
              "    </tr>\n",
              "    <tr>\n",
              "      <th>4344</th>\n",
              "      <td>4368.0</td>\n",
              "      <td>278</td>\n",
              "      <td>10</td>\n",
              "      <td>20480.0</td>\n",
              "      <td>4</td>\n",
              "      <td>4</td>\n",
              "      <td>4</td>\n",
              "    </tr>\n",
              "    <tr>\n",
              "      <th>4345</th>\n",
              "      <td>4369.0</td>\n",
              "      <td>181</td>\n",
              "      <td>7</td>\n",
              "      <td>10774.0</td>\n",
              "      <td>4</td>\n",
              "      <td>4</td>\n",
              "      <td>4</td>\n",
              "    </tr>\n",
              "    <tr>\n",
              "      <th>4346</th>\n",
              "      <td>4370.0</td>\n",
              "      <td>9</td>\n",
              "      <td>13</td>\n",
              "      <td>24962.0</td>\n",
              "      <td>1</td>\n",
              "      <td>4</td>\n",
              "      <td>4</td>\n",
              "    </tr>\n",
              "    <tr>\n",
              "      <th>4347</th>\n",
              "      <td>4371.0</td>\n",
              "      <td>4</td>\n",
              "      <td>751</td>\n",
              "      <td>279720.0</td>\n",
              "      <td>1</td>\n",
              "      <td>1</td>\n",
              "      <td>1</td>\n",
              "    </tr>\n",
              "    <tr>\n",
              "      <th>4348</th>\n",
              "      <td>4372.0</td>\n",
              "      <td>44</td>\n",
              "      <td>68</td>\n",
              "      <td>256952.0</td>\n",
              "      <td>2</td>\n",
              "      <td>2</td>\n",
              "      <td>1</td>\n",
              "    </tr>\n",
              "  </tbody>\n",
              "</table>\n",
              "<p>4349 rows × 7 columns</p>\n",
              "</div>"
            ],
            "text/plain": [
              "      CustomerID  Recency  Frequency  Monetary  R  F  M\n",
              "0            2.0        4        181  550416.0  1  1  1\n",
              "1            3.0       77         27  257404.0  3  3  1\n",
              "2            4.0       19         72  176613.0  2  2  2\n",
              "3            5.0      311         16   41976.0  4  4  3\n",
              "4            6.0       37         84  151822.0  2  2  2\n",
              "...          ...      ...        ...       ... .. .. ..\n",
              "4344      4368.0      278         10   20480.0  4  4  4\n",
              "4345      4369.0      181          7   10774.0  4  4  4\n",
              "4346      4370.0        9         13   24962.0  1  4  4\n",
              "4347      4371.0        4        751  279720.0  1  1  1\n",
              "4348      4372.0       44         68  256952.0  2  2  1\n",
              "\n",
              "[4349 rows x 7 columns]"
            ]
          },
          "execution_count": 75,
          "metadata": {},
          "output_type": "execute_result"
        }
      ],
      "source": [
        "RFMApproach.reset_index()"
      ]
    },
    {
      "cell_type": "code",
      "execution_count": null,
      "id": "ce1377bf-7980-43b6-ab68-0ab851f2c382",
      "metadata": {
        "id": "ce1377bf-7980-43b6-ab68-0ab851f2c382",
        "outputId": "4bb666d4-8463-4972-ad65-c8dd15a69b03"
      },
      "outputs": [
        {
          "data": {
            "text/html": [
              "<div>\n",
              "<style scoped>\n",
              "    .dataframe tbody tr th:only-of-type {\n",
              "        vertical-align: middle;\n",
              "    }\n",
              "\n",
              "    .dataframe tbody tr th {\n",
              "        vertical-align: top;\n",
              "    }\n",
              "\n",
              "    .dataframe thead th {\n",
              "        text-align: right;\n",
              "    }\n",
              "</style>\n",
              "<table border=\"1\" class=\"dataframe\">\n",
              "  <thead>\n",
              "    <tr style=\"text-align: right;\">\n",
              "      <th></th>\n",
              "      <th>CustomerID</th>\n",
              "      <th>Recency</th>\n",
              "      <th>Frequency</th>\n",
              "      <th>Monetary</th>\n",
              "      <th>R</th>\n",
              "      <th>F</th>\n",
              "      <th>M</th>\n",
              "      <th>RFM</th>\n",
              "    </tr>\n",
              "  </thead>\n",
              "  <tbody>\n",
              "    <tr>\n",
              "      <th>0</th>\n",
              "      <td>2.0</td>\n",
              "      <td>4</td>\n",
              "      <td>181</td>\n",
              "      <td>550416.0</td>\n",
              "      <td>1</td>\n",
              "      <td>1</td>\n",
              "      <td>1</td>\n",
              "      <td>3</td>\n",
              "    </tr>\n",
              "    <tr>\n",
              "      <th>1</th>\n",
              "      <td>3.0</td>\n",
              "      <td>77</td>\n",
              "      <td>27</td>\n",
              "      <td>257404.0</td>\n",
              "      <td>3</td>\n",
              "      <td>3</td>\n",
              "      <td>1</td>\n",
              "      <td>7</td>\n",
              "    </tr>\n",
              "    <tr>\n",
              "      <th>2</th>\n",
              "      <td>4.0</td>\n",
              "      <td>19</td>\n",
              "      <td>72</td>\n",
              "      <td>176613.0</td>\n",
              "      <td>2</td>\n",
              "      <td>2</td>\n",
              "      <td>2</td>\n",
              "      <td>6</td>\n",
              "    </tr>\n",
              "    <tr>\n",
              "      <th>3</th>\n",
              "      <td>5.0</td>\n",
              "      <td>311</td>\n",
              "      <td>16</td>\n",
              "      <td>41976.0</td>\n",
              "      <td>4</td>\n",
              "      <td>4</td>\n",
              "      <td>3</td>\n",
              "      <td>11</td>\n",
              "    </tr>\n",
              "    <tr>\n",
              "      <th>4</th>\n",
              "      <td>6.0</td>\n",
              "      <td>37</td>\n",
              "      <td>84</td>\n",
              "      <td>151822.0</td>\n",
              "      <td>2</td>\n",
              "      <td>2</td>\n",
              "      <td>2</td>\n",
              "      <td>6</td>\n",
              "    </tr>\n",
              "    <tr>\n",
              "      <th>...</th>\n",
              "      <td>...</td>\n",
              "      <td>...</td>\n",
              "      <td>...</td>\n",
              "      <td>...</td>\n",
              "      <td>...</td>\n",
              "      <td>...</td>\n",
              "      <td>...</td>\n",
              "      <td>...</td>\n",
              "    </tr>\n",
              "    <tr>\n",
              "      <th>4344</th>\n",
              "      <td>4368.0</td>\n",
              "      <td>278</td>\n",
              "      <td>10</td>\n",
              "      <td>20480.0</td>\n",
              "      <td>4</td>\n",
              "      <td>4</td>\n",
              "      <td>4</td>\n",
              "      <td>12</td>\n",
              "    </tr>\n",
              "    <tr>\n",
              "      <th>4345</th>\n",
              "      <td>4369.0</td>\n",
              "      <td>181</td>\n",
              "      <td>7</td>\n",
              "      <td>10774.0</td>\n",
              "      <td>4</td>\n",
              "      <td>4</td>\n",
              "      <td>4</td>\n",
              "      <td>12</td>\n",
              "    </tr>\n",
              "    <tr>\n",
              "      <th>4346</th>\n",
              "      <td>4370.0</td>\n",
              "      <td>9</td>\n",
              "      <td>13</td>\n",
              "      <td>24962.0</td>\n",
              "      <td>1</td>\n",
              "      <td>4</td>\n",
              "      <td>4</td>\n",
              "      <td>9</td>\n",
              "    </tr>\n",
              "    <tr>\n",
              "      <th>4347</th>\n",
              "      <td>4371.0</td>\n",
              "      <td>4</td>\n",
              "      <td>751</td>\n",
              "      <td>279720.0</td>\n",
              "      <td>1</td>\n",
              "      <td>1</td>\n",
              "      <td>1</td>\n",
              "      <td>3</td>\n",
              "    </tr>\n",
              "    <tr>\n",
              "      <th>4348</th>\n",
              "      <td>4372.0</td>\n",
              "      <td>44</td>\n",
              "      <td>68</td>\n",
              "      <td>256952.0</td>\n",
              "      <td>2</td>\n",
              "      <td>2</td>\n",
              "      <td>1</td>\n",
              "      <td>5</td>\n",
              "    </tr>\n",
              "  </tbody>\n",
              "</table>\n",
              "<p>4349 rows × 8 columns</p>\n",
              "</div>"
            ],
            "text/plain": [
              "      CustomerID  Recency  Frequency  Monetary  R  F  M  RFM\n",
              "0            2.0        4        181  550416.0  1  1  1    3\n",
              "1            3.0       77         27  257404.0  3  3  1    7\n",
              "2            4.0       19         72  176613.0  2  2  2    6\n",
              "3            5.0      311         16   41976.0  4  4  3   11\n",
              "4            6.0       37         84  151822.0  2  2  2    6\n",
              "...          ...      ...        ...       ... .. .. ..  ...\n",
              "4344      4368.0      278         10   20480.0  4  4  4   12\n",
              "4345      4369.0      181          7   10774.0  4  4  4   12\n",
              "4346      4370.0        9         13   24962.0  1  4  4    9\n",
              "4347      4371.0        4        751  279720.0  1  1  1    3\n",
              "4348      4372.0       44         68  256952.0  2  2  1    5\n",
              "\n",
              "[4349 rows x 8 columns]"
            ]
          },
          "execution_count": 77,
          "metadata": {},
          "output_type": "execute_result"
        }
      ],
      "source": [
        "RFMApproach['RFM'] = RFMApproach[['R','F','M']].sum(axis=1)\n",
        "RFMApproach.reset_index()"
      ]
    },
    {
      "cell_type": "code",
      "execution_count": null,
      "id": "40ec2742-36a5-4fa7-8a71-6e3d43471e20",
      "metadata": {
        "id": "40ec2742-36a5-4fa7-8a71-6e3d43471e20"
      },
      "outputs": [],
      "source": [
        "RFMApproach.to_csv('RFMApproach.csv')"
      ]
    },
    {
      "cell_type": "code",
      "execution_count": null,
      "id": "05032edb-c490-453b-b9b1-69422601d420",
      "metadata": {
        "id": "05032edb-c490-453b-b9b1-69422601d420",
        "outputId": "7efa56a3-9d98-4ea1-e694-19db0b5faa4d"
      },
      "outputs": [
        {
          "data": {
            "text/plain": [
              "RFM\n",
              "10    508\n",
              "3     471\n",
              "7     461\n",
              "9     458\n",
              "8     447\n",
              "5     439\n",
              "12    410\n",
              "6     405\n",
              "11    380\n",
              "4     370\n",
              "Name: count, dtype: int64"
            ]
          },
          "execution_count": 85,
          "metadata": {},
          "output_type": "execute_result"
        }
      ],
      "source": [
        "RFMApproach['RFM'].value_counts()"
      ]
    },
    {
      "cell_type": "code",
      "execution_count": null,
      "id": "e7cf29a9-693e-419e-86c1-eb0cafff25e0",
      "metadata": {
        "id": "e7cf29a9-693e-419e-86c1-eb0cafff25e0",
        "outputId": "ada964d3-5c98-47bd-bdbe-e5aa60068d77"
      },
      "outputs": [
        {
          "data": {
            "text/html": [
              "<div>\n",
              "<style scoped>\n",
              "    .dataframe tbody tr th:only-of-type {\n",
              "        vertical-align: middle;\n",
              "    }\n",
              "\n",
              "    .dataframe tbody tr th {\n",
              "        vertical-align: top;\n",
              "    }\n",
              "\n",
              "    .dataframe thead th {\n",
              "        text-align: right;\n",
              "    }\n",
              "</style>\n",
              "<table border=\"1\" class=\"dataframe\">\n",
              "  <thead>\n",
              "    <tr style=\"text-align: right;\">\n",
              "      <th></th>\n",
              "      <th>Recency</th>\n",
              "      <th>Frequency</th>\n",
              "      <th>Monetary</th>\n",
              "      <th>R</th>\n",
              "      <th>F</th>\n",
              "      <th>M</th>\n",
              "      <th>RFM</th>\n",
              "      <th>Loyality_Level</th>\n",
              "    </tr>\n",
              "    <tr>\n",
              "      <th>CustomerID</th>\n",
              "      <th></th>\n",
              "      <th></th>\n",
              "      <th></th>\n",
              "      <th></th>\n",
              "      <th></th>\n",
              "      <th></th>\n",
              "      <th></th>\n",
              "      <th></th>\n",
              "    </tr>\n",
              "  </thead>\n",
              "  <tbody>\n",
              "    <tr>\n",
              "      <th>2.0</th>\n",
              "      <td>4</td>\n",
              "      <td>181</td>\n",
              "      <td>550416.0</td>\n",
              "      <td>1</td>\n",
              "      <td>1</td>\n",
              "      <td>1</td>\n",
              "      <td>3</td>\n",
              "      <td>platinum</td>\n",
              "    </tr>\n",
              "    <tr>\n",
              "      <th>3.0</th>\n",
              "      <td>77</td>\n",
              "      <td>27</td>\n",
              "      <td>257404.0</td>\n",
              "      <td>3</td>\n",
              "      <td>3</td>\n",
              "      <td>1</td>\n",
              "      <td>7</td>\n",
              "      <td>gold</td>\n",
              "    </tr>\n",
              "    <tr>\n",
              "      <th>4.0</th>\n",
              "      <td>19</td>\n",
              "      <td>72</td>\n",
              "      <td>176613.0</td>\n",
              "      <td>2</td>\n",
              "      <td>2</td>\n",
              "      <td>2</td>\n",
              "      <td>6</td>\n",
              "      <td>gold</td>\n",
              "    </tr>\n",
              "    <tr>\n",
              "      <th>5.0</th>\n",
              "      <td>311</td>\n",
              "      <td>16</td>\n",
              "      <td>41976.0</td>\n",
              "      <td>4</td>\n",
              "      <td>4</td>\n",
              "      <td>3</td>\n",
              "      <td>11</td>\n",
              "      <td>bronze</td>\n",
              "    </tr>\n",
              "    <tr>\n",
              "      <th>6.0</th>\n",
              "      <td>37</td>\n",
              "      <td>84</td>\n",
              "      <td>151822.0</td>\n",
              "      <td>2</td>\n",
              "      <td>2</td>\n",
              "      <td>2</td>\n",
              "      <td>6</td>\n",
              "      <td>gold</td>\n",
              "    </tr>\n",
              "    <tr>\n",
              "      <th>...</th>\n",
              "      <td>...</td>\n",
              "      <td>...</td>\n",
              "      <td>...</td>\n",
              "      <td>...</td>\n",
              "      <td>...</td>\n",
              "      <td>...</td>\n",
              "      <td>...</td>\n",
              "      <td>...</td>\n",
              "    </tr>\n",
              "    <tr>\n",
              "      <th>4368.0</th>\n",
              "      <td>278</td>\n",
              "      <td>10</td>\n",
              "      <td>20480.0</td>\n",
              "      <td>4</td>\n",
              "      <td>4</td>\n",
              "      <td>4</td>\n",
              "      <td>12</td>\n",
              "      <td>bronze</td>\n",
              "    </tr>\n",
              "    <tr>\n",
              "      <th>4369.0</th>\n",
              "      <td>181</td>\n",
              "      <td>7</td>\n",
              "      <td>10774.0</td>\n",
              "      <td>4</td>\n",
              "      <td>4</td>\n",
              "      <td>4</td>\n",
              "      <td>12</td>\n",
              "      <td>bronze</td>\n",
              "    </tr>\n",
              "    <tr>\n",
              "      <th>4370.0</th>\n",
              "      <td>9</td>\n",
              "      <td>13</td>\n",
              "      <td>24962.0</td>\n",
              "      <td>1</td>\n",
              "      <td>4</td>\n",
              "      <td>4</td>\n",
              "      <td>9</td>\n",
              "      <td>silver</td>\n",
              "    </tr>\n",
              "    <tr>\n",
              "      <th>4371.0</th>\n",
              "      <td>4</td>\n",
              "      <td>751</td>\n",
              "      <td>279720.0</td>\n",
              "      <td>1</td>\n",
              "      <td>1</td>\n",
              "      <td>1</td>\n",
              "      <td>3</td>\n",
              "      <td>platinum</td>\n",
              "    </tr>\n",
              "    <tr>\n",
              "      <th>4372.0</th>\n",
              "      <td>44</td>\n",
              "      <td>68</td>\n",
              "      <td>256952.0</td>\n",
              "      <td>2</td>\n",
              "      <td>2</td>\n",
              "      <td>1</td>\n",
              "      <td>5</td>\n",
              "      <td>platinum</td>\n",
              "    </tr>\n",
              "  </tbody>\n",
              "</table>\n",
              "<p>4349 rows × 8 columns</p>\n",
              "</div>"
            ],
            "text/plain": [
              "            Recency  Frequency  Monetary  R  F  M  RFM Loyality_Level\n",
              "CustomerID                                                           \n",
              "2.0               4        181  550416.0  1  1  1    3       platinum\n",
              "3.0              77         27  257404.0  3  3  1    7           gold\n",
              "4.0              19         72  176613.0  2  2  2    6           gold\n",
              "5.0             311         16   41976.0  4  4  3   11         bronze\n",
              "6.0              37         84  151822.0  2  2  2    6           gold\n",
              "...             ...        ...       ... .. .. ..  ...            ...\n",
              "4368.0          278         10   20480.0  4  4  4   12         bronze\n",
              "4369.0          181          7   10774.0  4  4  4   12         bronze\n",
              "4370.0            9         13   24962.0  1  4  4    9         silver\n",
              "4371.0            4        751  279720.0  1  1  1    3       platinum\n",
              "4372.0           44         68  256952.0  2  2  1    5       platinum\n",
              "\n",
              "[4349 rows x 8 columns]"
            ]
          },
          "execution_count": 87,
          "metadata": {},
          "output_type": "execute_result"
        }
      ],
      "source": [
        "Loyality_Level = ['platinum','gold','silver','bronze']\n",
        "score_cuts = pd.qcut(RFMApproach.RFM, q=4, labels=Loyality_Level)\n",
        "RFMApproach['Loyality_Level'] = score_cuts.values\n",
        "RFMApproach\n"
      ]
    },
    {
      "cell_type": "code",
      "execution_count": null,
      "id": "06d38c51-bc59-4a67-8ac2-75cfd8c0234d",
      "metadata": {
        "id": "06d38c51-bc59-4a67-8ac2-75cfd8c0234d",
        "outputId": "7c6d19cc-482e-4789-a516-d66c3f279699"
      },
      "outputs": [
        {
          "data": {
            "text/html": [
              "<div>\n",
              "<style scoped>\n",
              "    .dataframe tbody tr th:only-of-type {\n",
              "        vertical-align: middle;\n",
              "    }\n",
              "\n",
              "    .dataframe tbody tr th {\n",
              "        vertical-align: top;\n",
              "    }\n",
              "\n",
              "    .dataframe thead th {\n",
              "        text-align: right;\n",
              "    }\n",
              "</style>\n",
              "<table border=\"1\" class=\"dataframe\">\n",
              "  <thead>\n",
              "    <tr style=\"text-align: right;\">\n",
              "      <th></th>\n",
              "      <th>CustomerID</th>\n",
              "      <th>Recency</th>\n",
              "      <th>Frequency</th>\n",
              "      <th>Monetary</th>\n",
              "      <th>R</th>\n",
              "      <th>F</th>\n",
              "      <th>M</th>\n",
              "      <th>RFM</th>\n",
              "      <th>Loyality_Level</th>\n",
              "    </tr>\n",
              "  </thead>\n",
              "  <tbody>\n",
              "    <tr>\n",
              "      <th>0</th>\n",
              "      <td>2.0</td>\n",
              "      <td>4</td>\n",
              "      <td>181</td>\n",
              "      <td>550416.0</td>\n",
              "      <td>1</td>\n",
              "      <td>1</td>\n",
              "      <td>1</td>\n",
              "      <td>3</td>\n",
              "      <td>platinum</td>\n",
              "    </tr>\n",
              "    <tr>\n",
              "      <th>1</th>\n",
              "      <td>3.0</td>\n",
              "      <td>77</td>\n",
              "      <td>27</td>\n",
              "      <td>257404.0</td>\n",
              "      <td>3</td>\n",
              "      <td>3</td>\n",
              "      <td>1</td>\n",
              "      <td>7</td>\n",
              "      <td>gold</td>\n",
              "    </tr>\n",
              "    <tr>\n",
              "      <th>2</th>\n",
              "      <td>4.0</td>\n",
              "      <td>19</td>\n",
              "      <td>72</td>\n",
              "      <td>176613.0</td>\n",
              "      <td>2</td>\n",
              "      <td>2</td>\n",
              "      <td>2</td>\n",
              "      <td>6</td>\n",
              "      <td>gold</td>\n",
              "    </tr>\n",
              "    <tr>\n",
              "      <th>3</th>\n",
              "      <td>5.0</td>\n",
              "      <td>311</td>\n",
              "      <td>16</td>\n",
              "      <td>41976.0</td>\n",
              "      <td>4</td>\n",
              "      <td>4</td>\n",
              "      <td>3</td>\n",
              "      <td>11</td>\n",
              "      <td>bronze</td>\n",
              "    </tr>\n",
              "    <tr>\n",
              "      <th>4</th>\n",
              "      <td>6.0</td>\n",
              "      <td>37</td>\n",
              "      <td>84</td>\n",
              "      <td>151822.0</td>\n",
              "      <td>2</td>\n",
              "      <td>2</td>\n",
              "      <td>2</td>\n",
              "      <td>6</td>\n",
              "      <td>gold</td>\n",
              "    </tr>\n",
              "    <tr>\n",
              "      <th>...</th>\n",
              "      <td>...</td>\n",
              "      <td>...</td>\n",
              "      <td>...</td>\n",
              "      <td>...</td>\n",
              "      <td>...</td>\n",
              "      <td>...</td>\n",
              "      <td>...</td>\n",
              "      <td>...</td>\n",
              "      <td>...</td>\n",
              "    </tr>\n",
              "    <tr>\n",
              "      <th>4344</th>\n",
              "      <td>4368.0</td>\n",
              "      <td>278</td>\n",
              "      <td>10</td>\n",
              "      <td>20480.0</td>\n",
              "      <td>4</td>\n",
              "      <td>4</td>\n",
              "      <td>4</td>\n",
              "      <td>12</td>\n",
              "      <td>bronze</td>\n",
              "    </tr>\n",
              "    <tr>\n",
              "      <th>4345</th>\n",
              "      <td>4369.0</td>\n",
              "      <td>181</td>\n",
              "      <td>7</td>\n",
              "      <td>10774.0</td>\n",
              "      <td>4</td>\n",
              "      <td>4</td>\n",
              "      <td>4</td>\n",
              "      <td>12</td>\n",
              "      <td>bronze</td>\n",
              "    </tr>\n",
              "    <tr>\n",
              "      <th>4346</th>\n",
              "      <td>4370.0</td>\n",
              "      <td>9</td>\n",
              "      <td>13</td>\n",
              "      <td>24962.0</td>\n",
              "      <td>1</td>\n",
              "      <td>4</td>\n",
              "      <td>4</td>\n",
              "      <td>9</td>\n",
              "      <td>silver</td>\n",
              "    </tr>\n",
              "    <tr>\n",
              "      <th>4347</th>\n",
              "      <td>4371.0</td>\n",
              "      <td>4</td>\n",
              "      <td>751</td>\n",
              "      <td>279720.0</td>\n",
              "      <td>1</td>\n",
              "      <td>1</td>\n",
              "      <td>1</td>\n",
              "      <td>3</td>\n",
              "      <td>platinum</td>\n",
              "    </tr>\n",
              "    <tr>\n",
              "      <th>4348</th>\n",
              "      <td>4372.0</td>\n",
              "      <td>44</td>\n",
              "      <td>68</td>\n",
              "      <td>256952.0</td>\n",
              "      <td>2</td>\n",
              "      <td>2</td>\n",
              "      <td>1</td>\n",
              "      <td>5</td>\n",
              "      <td>platinum</td>\n",
              "    </tr>\n",
              "  </tbody>\n",
              "</table>\n",
              "<p>4349 rows × 9 columns</p>\n",
              "</div>"
            ],
            "text/plain": [
              "      CustomerID  Recency  Frequency  Monetary  R  F  M  RFM Loyality_Level\n",
              "0            2.0        4        181  550416.0  1  1  1    3       platinum\n",
              "1            3.0       77         27  257404.0  3  3  1    7           gold\n",
              "2            4.0       19         72  176613.0  2  2  2    6           gold\n",
              "3            5.0      311         16   41976.0  4  4  3   11         bronze\n",
              "4            6.0       37         84  151822.0  2  2  2    6           gold\n",
              "...          ...      ...        ...       ... .. .. ..  ...            ...\n",
              "4344      4368.0      278         10   20480.0  4  4  4   12         bronze\n",
              "4345      4369.0      181          7   10774.0  4  4  4   12         bronze\n",
              "4346      4370.0        9         13   24962.0  1  4  4    9         silver\n",
              "4347      4371.0        4        751  279720.0  1  1  1    3       platinum\n",
              "4348      4372.0       44         68  256952.0  2  2  1    5       platinum\n",
              "\n",
              "[4349 rows x 9 columns]"
            ]
          },
          "execution_count": 89,
          "metadata": {},
          "output_type": "execute_result"
        }
      ],
      "source": [
        "RFMApproach=RFMApproach.reset_index()\n",
        "RFMApproach"
      ]
    },
    {
      "cell_type": "code",
      "execution_count": null,
      "id": "4419593e-0433-4c1b-be5c-91a3a4a02165",
      "metadata": {
        "id": "4419593e-0433-4c1b-be5c-91a3a4a02165",
        "outputId": "5ae7c2f3-879b-46d1-fd72-cda997bcecf8"
      },
      "outputs": [
        {
          "data": {
            "text/plain": [
              "Loyality_Level\n",
              "gold        1313\n",
              "platinum    1280\n",
              "silver       966\n",
              "bronze       790\n",
              "Name: count, dtype: int64"
            ]
          },
          "execution_count": 91,
          "metadata": {},
          "output_type": "execute_result"
        }
      ],
      "source": [
        "RFMApproach['Loyality_Level'].value_counts()"
      ]
    },
    {
      "cell_type": "code",
      "execution_count": null,
      "id": "1c57ff8c-0570-4832-9cf7-191d8e16adb8",
      "metadata": {
        "id": "1c57ff8c-0570-4832-9cf7-191d8e16adb8"
      },
      "outputs": [],
      "source": [
        "RFMApproach.to_csv('Loyality_Level.csv')"
      ]
    },
    {
      "cell_type": "code",
      "execution_count": null,
      "id": "9c902ad3-40e8-4f33-9c09-e6dd952f30ed",
      "metadata": {
        "id": "9c902ad3-40e8-4f33-9c09-e6dd952f30ed",
        "outputId": "b08109f9-fac9-4d72-b031-e892830b34f3"
      },
      "outputs": [
        {
          "data": {
            "text/plain": [
              "Index(['CustomerID', 'Recency', 'Frequency', 'Monetary', 'R', 'F', 'M', 'RFM',\n",
              "       'Loyality_Level'],\n",
              "      dtype='object')"
            ]
          },
          "execution_count": 95,
          "metadata": {},
          "output_type": "execute_result"
        }
      ],
      "source": [
        "RFMApproach.columns"
      ]
    },
    {
      "cell_type": "code",
      "execution_count": null,
      "id": "983ebf1e-fdf1-4030-a784-a4a51c633d23",
      "metadata": {
        "id": "983ebf1e-fdf1-4030-a784-a4a51c633d23"
      },
      "outputs": [],
      "source": [
        "final_report = RFMApproach.groupby('Loyality_Level')[['Recency', 'Frequency', 'Monetary','CustomerID']].agg({'Recency': 'sum',\n",
        "                                                                                                             'Frequency': 'sum',\n",
        "                                                                                                             'Monetary':'sum',\n",
        "                                                                                                             'CustomerID':'nunique'}).reset_index()"
      ]
    },
    {
      "cell_type": "code",
      "execution_count": null,
      "id": "c494b049-4c40-4b58-973c-18a43cbfe698",
      "metadata": {
        "id": "c494b049-4c40-4b58-973c-18a43cbfe698",
        "outputId": "23197bf9-7b00-443d-8868-fdf87b65dfd8"
      },
      "outputs": [
        {
          "data": {
            "text/html": [
              "<div>\n",
              "<style scoped>\n",
              "    .dataframe tbody tr th:only-of-type {\n",
              "        vertical-align: middle;\n",
              "    }\n",
              "\n",
              "    .dataframe tbody tr th {\n",
              "        vertical-align: top;\n",
              "    }\n",
              "\n",
              "    .dataframe thead th {\n",
              "        text-align: right;\n",
              "    }\n",
              "</style>\n",
              "<table border=\"1\" class=\"dataframe\">\n",
              "  <thead>\n",
              "    <tr style=\"text-align: right;\">\n",
              "      <th></th>\n",
              "      <th>Loyality_Level</th>\n",
              "      <th>Recency</th>\n",
              "      <th>Frequency</th>\n",
              "      <th>Monetary</th>\n",
              "      <th>CustomerID</th>\n",
              "    </tr>\n",
              "  </thead>\n",
              "  <tbody>\n",
              "    <tr>\n",
              "      <th>0</th>\n",
              "      <td>platinum</td>\n",
              "      <td>25971</td>\n",
              "      <td>294629</td>\n",
              "      <td>763311232.0</td>\n",
              "      <td>1280</td>\n",
              "    </tr>\n",
              "    <tr>\n",
              "      <th>1</th>\n",
              "      <td>gold</td>\n",
              "      <td>84142</td>\n",
              "      <td>75914</td>\n",
              "      <td>165998506.0</td>\n",
              "      <td>1313</td>\n",
              "    </tr>\n",
              "    <tr>\n",
              "      <th>2</th>\n",
              "      <td>silver</td>\n",
              "      <td>121714</td>\n",
              "      <td>23728</td>\n",
              "      <td>50215730.1</td>\n",
              "      <td>966</td>\n",
              "    </tr>\n",
              "    <tr>\n",
              "      <th>3</th>\n",
              "      <td>bronze</td>\n",
              "      <td>173932</td>\n",
              "      <td>8588</td>\n",
              "      <td>18543646.0</td>\n",
              "      <td>790</td>\n",
              "    </tr>\n",
              "  </tbody>\n",
              "</table>\n",
              "</div>"
            ],
            "text/plain": [
              "  Loyality_Level  Recency  Frequency     Monetary  CustomerID\n",
              "0       platinum    25971     294629  763311232.0        1280\n",
              "1           gold    84142      75914  165998506.0        1313\n",
              "2         silver   121714      23728   50215730.1         966\n",
              "3         bronze   173932       8588   18543646.0         790"
            ]
          },
          "execution_count": 99,
          "metadata": {},
          "output_type": "execute_result"
        }
      ],
      "source": [
        "final_report"
      ]
    },
    {
      "cell_type": "code",
      "execution_count": null,
      "id": "0602137e-3cf2-46b7-91dd-f613a0071a62",
      "metadata": {
        "id": "0602137e-3cf2-46b7-91dd-f613a0071a62",
        "outputId": "91365464-d7ba-4423-fec3-805a16d56eb8"
      },
      "outputs": [
        {
          "data": {
            "text/html": [
              "<div>\n",
              "<style scoped>\n",
              "    .dataframe tbody tr th:only-of-type {\n",
              "        vertical-align: middle;\n",
              "    }\n",
              "\n",
              "    .dataframe tbody tr th {\n",
              "        vertical-align: top;\n",
              "    }\n",
              "\n",
              "    .dataframe thead th {\n",
              "        text-align: right;\n",
              "    }\n",
              "</style>\n",
              "<table border=\"1\" class=\"dataframe\">\n",
              "  <thead>\n",
              "    <tr style=\"text-align: right;\">\n",
              "      <th></th>\n",
              "      <th>Loyality_Level</th>\n",
              "      <th>Recency</th>\n",
              "      <th>Frequency</th>\n",
              "      <th>Monetary</th>\n",
              "      <th>NumBuyers</th>\n",
              "    </tr>\n",
              "  </thead>\n",
              "  <tbody>\n",
              "    <tr>\n",
              "      <th>0</th>\n",
              "      <td>platinum</td>\n",
              "      <td>25971</td>\n",
              "      <td>294629</td>\n",
              "      <td>763311232.0</td>\n",
              "      <td>1280</td>\n",
              "    </tr>\n",
              "    <tr>\n",
              "      <th>1</th>\n",
              "      <td>gold</td>\n",
              "      <td>84142</td>\n",
              "      <td>75914</td>\n",
              "      <td>165998506.0</td>\n",
              "      <td>1313</td>\n",
              "    </tr>\n",
              "    <tr>\n",
              "      <th>2</th>\n",
              "      <td>silver</td>\n",
              "      <td>121714</td>\n",
              "      <td>23728</td>\n",
              "      <td>50215730.1</td>\n",
              "      <td>966</td>\n",
              "    </tr>\n",
              "    <tr>\n",
              "      <th>3</th>\n",
              "      <td>bronze</td>\n",
              "      <td>173932</td>\n",
              "      <td>8588</td>\n",
              "      <td>18543646.0</td>\n",
              "      <td>790</td>\n",
              "    </tr>\n",
              "  </tbody>\n",
              "</table>\n",
              "</div>"
            ],
            "text/plain": [
              "  Loyality_Level  Recency  Frequency     Monetary  NumBuyers\n",
              "0       platinum    25971     294629  763311232.0       1280\n",
              "1           gold    84142      75914  165998506.0       1313\n",
              "2         silver   121714      23728   50215730.1        966\n",
              "3         bronze   173932       8588   18543646.0        790"
            ]
          },
          "execution_count": 101,
          "metadata": {},
          "output_type": "execute_result"
        }
      ],
      "source": [
        "final_report = final_report.rename(columns = {'CustomerID':'NumBuyers'})\n",
        "final_report"
      ]
    },
    {
      "cell_type": "code",
      "execution_count": null,
      "id": "408c7f8d-ddfa-4721-a274-ea96b6f88263",
      "metadata": {
        "id": "408c7f8d-ddfa-4721-a274-ea96b6f88263"
      },
      "outputs": [],
      "source": [
        "final_report['Percent'] = round(final_report['NumBuyers'] / final_report.NumBuyers.sum()*100,2)"
      ]
    },
    {
      "cell_type": "code",
      "execution_count": null,
      "id": "91ec8a34-910d-429f-8656-fc46f7acae96",
      "metadata": {
        "id": "91ec8a34-910d-429f-8656-fc46f7acae96",
        "outputId": "a47d2f9f-f434-4cb2-b3df-950112d7d694"
      },
      "outputs": [
        {
          "data": {
            "text/html": [
              "<div>\n",
              "<style scoped>\n",
              "    .dataframe tbody tr th:only-of-type {\n",
              "        vertical-align: middle;\n",
              "    }\n",
              "\n",
              "    .dataframe tbody tr th {\n",
              "        vertical-align: top;\n",
              "    }\n",
              "\n",
              "    .dataframe thead th {\n",
              "        text-align: right;\n",
              "    }\n",
              "</style>\n",
              "<table border=\"1\" class=\"dataframe\">\n",
              "  <thead>\n",
              "    <tr style=\"text-align: right;\">\n",
              "      <th></th>\n",
              "      <th>Loyality_Level</th>\n",
              "      <th>Recency</th>\n",
              "      <th>Frequency</th>\n",
              "      <th>Monetary</th>\n",
              "      <th>NumBuyers</th>\n",
              "      <th>Percent</th>\n",
              "    </tr>\n",
              "  </thead>\n",
              "  <tbody>\n",
              "    <tr>\n",
              "      <th>0</th>\n",
              "      <td>platinum</td>\n",
              "      <td>25971</td>\n",
              "      <td>294629</td>\n",
              "      <td>763311232.0</td>\n",
              "      <td>1280</td>\n",
              "      <td>29.43</td>\n",
              "    </tr>\n",
              "    <tr>\n",
              "      <th>1</th>\n",
              "      <td>gold</td>\n",
              "      <td>84142</td>\n",
              "      <td>75914</td>\n",
              "      <td>165998506.0</td>\n",
              "      <td>1313</td>\n",
              "      <td>30.19</td>\n",
              "    </tr>\n",
              "    <tr>\n",
              "      <th>2</th>\n",
              "      <td>silver</td>\n",
              "      <td>121714</td>\n",
              "      <td>23728</td>\n",
              "      <td>50215730.1</td>\n",
              "      <td>966</td>\n",
              "      <td>22.21</td>\n",
              "    </tr>\n",
              "    <tr>\n",
              "      <th>3</th>\n",
              "      <td>bronze</td>\n",
              "      <td>173932</td>\n",
              "      <td>8588</td>\n",
              "      <td>18543646.0</td>\n",
              "      <td>790</td>\n",
              "      <td>18.17</td>\n",
              "    </tr>\n",
              "  </tbody>\n",
              "</table>\n",
              "</div>"
            ],
            "text/plain": [
              "  Loyality_Level  Recency  Frequency     Monetary  NumBuyers  Percent\n",
              "0       platinum    25971     294629  763311232.0       1280    29.43\n",
              "1           gold    84142      75914  165998506.0       1313    30.19\n",
              "2         silver   121714      23728   50215730.1        966    22.21\n",
              "3         bronze   173932       8588   18543646.0        790    18.17"
            ]
          },
          "execution_count": 105,
          "metadata": {},
          "output_type": "execute_result"
        }
      ],
      "source": [
        "final_report"
      ]
    },
    {
      "cell_type": "code",
      "execution_count": null,
      "id": "3ab33fc4-e5a5-4a74-8447-1cafeaee3d4b",
      "metadata": {
        "id": "3ab33fc4-e5a5-4a74-8447-1cafeaee3d4b",
        "outputId": "876d77e6-54b0-4c3b-ade5-9dbc2cd4bbfc"
      },
      "outputs": [
        {
          "data": {
            "text/html": [
              "<div>\n",
              "<style scoped>\n",
              "    .dataframe tbody tr th:only-of-type {\n",
              "        vertical-align: middle;\n",
              "    }\n",
              "\n",
              "    .dataframe tbody tr th {\n",
              "        vertical-align: top;\n",
              "    }\n",
              "\n",
              "    .dataframe thead th {\n",
              "        text-align: right;\n",
              "    }\n",
              "</style>\n",
              "<table border=\"1\" class=\"dataframe\">\n",
              "  <thead>\n",
              "    <tr style=\"text-align: right;\">\n",
              "      <th></th>\n",
              "      <th>Loyality_Level</th>\n",
              "      <th>NumBuyers</th>\n",
              "      <th>Percent</th>\n",
              "    </tr>\n",
              "  </thead>\n",
              "  <tbody>\n",
              "    <tr>\n",
              "      <th>0</th>\n",
              "      <td>platinum</td>\n",
              "      <td>1280</td>\n",
              "      <td>29.43</td>\n",
              "    </tr>\n",
              "    <tr>\n",
              "      <th>1</th>\n",
              "      <td>gold</td>\n",
              "      <td>1313</td>\n",
              "      <td>30.19</td>\n",
              "    </tr>\n",
              "    <tr>\n",
              "      <th>2</th>\n",
              "      <td>silver</td>\n",
              "      <td>966</td>\n",
              "      <td>22.21</td>\n",
              "    </tr>\n",
              "    <tr>\n",
              "      <th>3</th>\n",
              "      <td>bronze</td>\n",
              "      <td>790</td>\n",
              "      <td>18.17</td>\n",
              "    </tr>\n",
              "  </tbody>\n",
              "</table>\n",
              "</div>"
            ],
            "text/plain": [
              "  Loyality_Level  NumBuyers  Percent\n",
              "0       platinum       1280    29.43\n",
              "1           gold       1313    30.19\n",
              "2         silver        966    22.21\n",
              "3         bronze        790    18.17"
            ]
          },
          "execution_count": 107,
          "metadata": {},
          "output_type": "execute_result"
        }
      ],
      "source": [
        "final_report_1 = final_report[['Loyality_Level','NumBuyers','Percent']]\n",
        "final_report_1"
      ]
    },
    {
      "cell_type": "code",
      "execution_count": null,
      "id": "64d0b48f-f667-425b-9729-ad455f2ea1eb",
      "metadata": {
        "id": "64d0b48f-f667-425b-9729-ad455f2ea1eb",
        "outputId": "eb141d65-070d-4f30-ed5b-dfb1666c48a5"
      },
      "outputs": [
        {
          "data": {
            "image/png": "[encoded data removed]",
            "text/plain": [
              "<Figure size 1000x800 with 1 Axes>"
            ]
          },
          "metadata": {},
          "output_type": "display_data"
        }
      ],
      "source": [
        "import squarify\n",
        "fig = plt.gcf()\n",
        "ax = fig.add_subplot()\n",
        "fig.set_size_inches(10,8)\n",
        "colors_dics = {'platinum':'green', 'gold':'yellow', 'silver':'gray', 'bronze':'red'}\n",
        "\n",
        "squarify.plot(sizes=final_report_1['NumBuyers'], color = colors_dics.values(),\n",
        "              label = ['{} \\n{:0.0f} customers \\n{}%'.format(*final_report_1.iloc[i]) for i in range(0, len(final_report_1))], alpha=0.6)\n",
        "plt.title(\"Customer Segmentation Basis Loyality Level\", fontsize=25, fontweight=\"bold\")\n",
        "plt.axis('off')\n",
        "plt.show()"
      ]
    }
  ],
  "metadata": {
    "colab": {
      "provenance": []
    },
    "kernelspec": {
      "display_name": "Python 3 (ipykernel)",
      "language": "python",
      "name": "python3"
    },
    "language_info": {
      "codemirror_mode": {
        "name": "ipython",
        "version": 3
      },
      "file_extension": ".py",
      "mimetype": "text/x-python",
      "name": "python",
      "nbconvert_exporter": "python",
      "pygments_lexer": "ipython3",
      "version": "3.12.4"
    }
  },
  "nbformat": 4,
  "nbformat_minor": 5
}
